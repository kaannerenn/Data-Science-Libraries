{
 "cells": [
  {
   "cell_type": "markdown",
   "id": "0740251f",
   "metadata": {},
   "source": [
    "# Matrix"
   ]
  },
  {
   "cell_type": "code",
   "execution_count": 1,
   "id": "a4ff1a77",
   "metadata": {},
   "outputs": [],
   "source": [
    "import numpy as np"
   ]
  },
  {
   "cell_type": "code",
   "execution_count": 2,
   "id": "d8c9b610",
   "metadata": {},
   "outputs": [],
   "source": [
    "myList = [[10,20,30],[15,25,35],[40,50,60]]"
   ]
  },
  {
   "cell_type": "code",
   "execution_count": 3,
   "id": "b2533913",
   "metadata": {},
   "outputs": [],
   "source": [
    "matrixArray = np.array(myList)"
   ]
  },
  {
   "cell_type": "code",
   "execution_count": 4,
   "id": "7cd71d24",
   "metadata": {},
   "outputs": [
    {
     "data": {
      "text/plain": [
       "array([[10, 20, 30],\n",
       "       [15, 25, 35],\n",
       "       [40, 50, 60]])"
      ]
     },
     "execution_count": 4,
     "metadata": {},
     "output_type": "execute_result"
    }
   ],
   "source": [
    "matrixArray # np.array() ile listeyi matrise çevirimiş olduk."
   ]
  },
  {
   "cell_type": "code",
   "execution_count": 5,
   "id": "1a221e73",
   "metadata": {},
   "outputs": [
    {
     "data": {
      "text/plain": [
       "array([10, 20, 30])"
      ]
     },
     "execution_count": 5,
     "metadata": {},
     "output_type": "execute_result"
    }
   ],
   "source": [
    "matrixArray[0] # 0. indeksli eleman"
   ]
  },
  {
   "cell_type": "code",
   "execution_count": 6,
   "id": "8b44a00b",
   "metadata": {},
   "outputs": [
    {
     "data": {
      "text/plain": [
       "35"
      ]
     },
     "execution_count": 6,
     "metadata": {},
     "output_type": "execute_result"
    }
   ],
   "source": [
    "matrixArray[1][2] # indeksler 0 ile başladığı için 2. satır 3. sütuna denk geliyor."
   ]
  },
  {
   "cell_type": "code",
   "execution_count": 7,
   "id": "db3fa6fa",
   "metadata": {},
   "outputs": [
    {
     "data": {
      "text/plain": [
       "35"
      ]
     },
     "execution_count": 7,
     "metadata": {},
     "output_type": "execute_result"
    }
   ],
   "source": [
    "matrixArray[1,2] # Aslında bu yukarıdaki matrixArray[1][2] ile eşdeğer."
   ]
  },
  {
   "cell_type": "code",
   "execution_count": 9,
   "id": "f64e3cca",
   "metadata": {},
   "outputs": [
    {
     "data": {
      "text/plain": [
       "array([30, 35, 60])"
      ]
     },
     "execution_count": 9,
     "metadata": {},
     "output_type": "execute_result"
    }
   ],
   "source": [
    "matrixArray[0:,2] # Slicingi bu şekilde yapabiliyoruz. Yani 1. satır, 2. satır ve 3. satırın 3. sütunlarını getiriyor."
   ]
  },
  {
   "cell_type": "code",
   "execution_count": 10,
   "id": "4e505beb",
   "metadata": {},
   "outputs": [
    {
     "data": {
      "text/plain": [
       "array([10, 20, 30])"
      ]
     },
     "execution_count": 10,
     "metadata": {},
     "output_type": "execute_result"
    }
   ],
   "source": [
    "matrixArray[0,0:] # Burada da aynı manipülasyonu sütun kısmı için yapabiliyoruz. 1. satırın tüm elemanlarını getirdik."
   ]
  },
  {
   "cell_type": "code",
   "execution_count": 13,
   "id": "5bc50704",
   "metadata": {},
   "outputs": [],
   "source": [
    "newList = [[0,1,2,3,4],[5,6,7,8,9],[10,11,12,13,14],[15,16,17,18,19],[20,21,22,23,24]]"
   ]
  },
  {
   "cell_type": "code",
   "execution_count": 14,
   "id": "4561a9b8",
   "metadata": {},
   "outputs": [],
   "source": [
    "newListMatrix = np.array(newList)"
   ]
  },
  {
   "cell_type": "code",
   "execution_count": 15,
   "id": "3931af64",
   "metadata": {},
   "outputs": [
    {
     "data": {
      "text/plain": [
       "array([[ 0,  1,  2,  3,  4],\n",
       "       [ 5,  6,  7,  8,  9],\n",
       "       [10, 11, 12, 13, 14],\n",
       "       [15, 16, 17, 18, 19],\n",
       "       [20, 21, 22, 23, 24]])"
      ]
     },
     "execution_count": 15,
     "metadata": {},
     "output_type": "execute_result"
    }
   ],
   "source": [
    "newListMatrix"
   ]
  },
  {
   "cell_type": "code",
   "execution_count": 18,
   "id": "47874bda",
   "metadata": {},
   "outputs": [
    {
     "data": {
      "text/plain": [
       "array([[ 0,  1,  2,  3,  4],\n",
       "       [10, 11, 12, 13, 14],\n",
       "       [20, 21, 22, 23, 24]])"
      ]
     },
     "execution_count": 18,
     "metadata": {},
     "output_type": "execute_result"
    }
   ],
   "source": [
    "newListMatrix[[0,2,4]] # Eğer liste olarak verirsek bu şekilde istediğimiz satırları alabiliriz."
   ]
  },
  {
   "cell_type": "code",
   "execution_count": 20,
   "id": "8da30d06",
   "metadata": {},
   "outputs": [
    {
     "data": {
      "text/plain": [
       "array([[20, 21, 22, 23, 24],\n",
       "       [10, 11, 12, 13, 14],\n",
       "       [ 0,  1,  2,  3,  4]])"
      ]
     },
     "execution_count": 20,
     "metadata": {},
     "output_type": "execute_result"
    }
   ],
   "source": [
    "newListMatrix[[4,2,0]] # Sırası önemsiz bu şekilde de verebiliriz listeyi. # fancy indexing deniyor"
   ]
  },
  {
   "cell_type": "code",
   "execution_count": 24,
   "id": "7d897cef",
   "metadata": {},
   "outputs": [
    {
     "data": {
      "text/plain": [
       "array([ 7, 13])"
      ]
     },
     "execution_count": 24,
     "metadata": {},
     "output_type": "execute_result"
    }
   ],
   "source": [
    "newListMatrix[[1,2],[2,3]] # Bu şekilde 2d fancy indexingde yapabiliriz."
   ]
  }
 ],
 "metadata": {
  "kernelspec": {
   "display_name": "Python 3 (ipykernel)",
   "language": "python",
   "name": "python3"
  },
  "language_info": {
   "codemirror_mode": {
    "name": "ipython",
    "version": 3
   },
   "file_extension": ".py",
   "mimetype": "text/x-python",
   "name": "python",
   "nbconvert_exporter": "python",
   "pygments_lexer": "ipython3",
   "version": "3.11.3"
  }
 },
 "nbformat": 4,
 "nbformat_minor": 5
}
