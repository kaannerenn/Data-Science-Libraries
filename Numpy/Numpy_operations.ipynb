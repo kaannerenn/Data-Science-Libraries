{
 "cells": [
  {
   "cell_type": "markdown",
   "id": "d5adecd5",
   "metadata": {},
   "source": [
    "# Operations"
   ]
  },
  {
   "cell_type": "code",
   "execution_count": 3,
   "id": "c14a67dd",
   "metadata": {},
   "outputs": [],
   "source": [
    "import numpy as np"
   ]
  },
  {
   "cell_type": "code",
   "execution_count": 6,
   "id": "021575aa",
   "metadata": {},
   "outputs": [],
   "source": [
    "newArray = np.random.randint(0,100,25)"
   ]
  },
  {
   "cell_type": "code",
   "execution_count": 7,
   "id": "2b02fde2",
   "metadata": {},
   "outputs": [
    {
     "data": {
      "text/plain": [
       "array([34,  2, 45, 50, 68, 85, 58, 54, 45,  5, 45, 61, 89, 39,  3, 46, 37,\n",
       "       23, 59, 59, 36, 61,  6, 57,  4])"
      ]
     },
     "execution_count": 7,
     "metadata": {},
     "output_type": "execute_result"
    }
   ],
   "source": [
    "newArray"
   ]
  },
  {
   "cell_type": "code",
   "execution_count": 8,
   "id": "3c9ecbe9",
   "metadata": {},
   "outputs": [
    {
     "data": {
      "text/plain": [
       "array([ True, False,  True,  True,  True,  True,  True,  True,  True,\n",
       "       False,  True,  True,  True,  True, False,  True,  True, False,\n",
       "        True,  True,  True,  True, False,  True, False])"
      ]
     },
     "execution_count": 8,
     "metadata": {},
     "output_type": "execute_result"
    }
   ],
   "source": [
    "newArray > 30 # 30'dan büyük sayıları boolean olarak döndürüyor."
   ]
  },
  {
   "cell_type": "code",
   "execution_count": 9,
   "id": "15bc51b4",
   "metadata": {},
   "outputs": [],
   "source": [
    "resultArray = newArray > 30"
   ]
  },
  {
   "cell_type": "code",
   "execution_count": 10,
   "id": "a5f8b2ac",
   "metadata": {},
   "outputs": [
    {
     "data": {
      "text/plain": [
       "array([ True, False,  True,  True,  True,  True,  True,  True,  True,\n",
       "       False,  True,  True,  True,  True, False,  True,  True, False,\n",
       "        True,  True,  True,  True, False,  True, False])"
      ]
     },
     "execution_count": 10,
     "metadata": {},
     "output_type": "execute_result"
    }
   ],
   "source": [
    "resultArray"
   ]
  },
  {
   "cell_type": "code",
   "execution_count": 11,
   "id": "5f34ace4",
   "metadata": {},
   "outputs": [
    {
     "data": {
      "text/plain": [
       "array([34,  2, 45, 50, 68, 85, 58, 54, 45,  5, 45, 61, 89, 39,  3, 46, 37,\n",
       "       23, 59, 59, 36, 61,  6, 57,  4])"
      ]
     },
     "execution_count": 11,
     "metadata": {},
     "output_type": "execute_result"
    }
   ],
   "source": [
    "newArray"
   ]
  },
  {
   "cell_type": "code",
   "execution_count": 12,
   "id": "c17ebf7e",
   "metadata": {},
   "outputs": [
    {
     "data": {
      "text/plain": [
       "array([34, 45, 50, 68, 85, 58, 54, 45, 45, 61, 89, 39, 46, 37, 59, 59, 36,\n",
       "       61, 57])"
      ]
     },
     "execution_count": 12,
     "metadata": {},
     "output_type": "execute_result"
    }
   ],
   "source": [
    "newArray[resultArray] # True olan değerleri getirmiş olduk."
   ]
  },
  {
   "cell_type": "code",
   "execution_count": 13,
   "id": "f52ad4ac",
   "metadata": {},
   "outputs": [],
   "source": [
    "Array2 = np.arange(0,24)"
   ]
  },
  {
   "cell_type": "code",
   "execution_count": 14,
   "id": "29da9ac7",
   "metadata": {},
   "outputs": [
    {
     "data": {
      "text/plain": [
       "array([ 0,  1,  2,  3,  4,  5,  6,  7,  8,  9, 10, 11, 12, 13, 14, 15, 16,\n",
       "       17, 18, 19, 20, 21, 22, 23])"
      ]
     },
     "execution_count": 14,
     "metadata": {},
     "output_type": "execute_result"
    }
   ],
   "source": [
    "Array2"
   ]
  },
  {
   "cell_type": "code",
   "execution_count": 15,
   "id": "0957d3a7",
   "metadata": {},
   "outputs": [
    {
     "data": {
      "text/plain": [
       "array([ 0,  2,  4,  6,  8, 10, 12, 14, 16, 18, 20, 22, 24, 26, 28, 30, 32,\n",
       "       34, 36, 38, 40, 42, 44, 46])"
      ]
     },
     "execution_count": 15,
     "metadata": {},
     "output_type": "execute_result"
    }
   ],
   "source": [
    "Array2 + Array2 # 2 dizi topladık."
   ]
  },
  {
   "cell_type": "code",
   "execution_count": 17,
   "id": "153bcf95",
   "metadata": {},
   "outputs": [
    {
     "data": {
      "text/plain": [
       "array([  0,   1,   4,   9,  16,  25,  36,  49,  64,  81, 100, 121, 144,\n",
       "       169, 196, 225, 256, 289, 324, 361, 400, 441, 484, 529])"
      ]
     },
     "execution_count": 17,
     "metadata": {},
     "output_type": "execute_result"
    }
   ],
   "source": [
    "Array2 * Array2 # 2 diziyi çarptık"
   ]
  },
  {
   "cell_type": "code",
   "execution_count": 18,
   "id": "8847e310",
   "metadata": {},
   "outputs": [
    {
     "data": {
      "text/plain": [
       "array([0, 0, 0, 0, 0, 0, 0, 0, 0, 0, 0, 0, 0, 0, 0, 0, 0, 0, 0, 0, 0, 0,\n",
       "       0, 0])"
      ]
     },
     "execution_count": 18,
     "metadata": {},
     "output_type": "execute_result"
    }
   ],
   "source": [
    "Array2 - Array2 # 2 diziyi birbirinden çıkardık"
   ]
  },
  {
   "cell_type": "code",
   "execution_count": 19,
   "id": "db384991",
   "metadata": {},
   "outputs": [
    {
     "name": "stderr",
     "output_type": "stream",
     "text": [
      "C:\\Users\\kaann\\AppData\\Local\\Temp\\ipykernel_21224\\3674971879.py:1: RuntimeWarning: invalid value encountered in divide\n",
      "  Array2 / Array2\n"
     ]
    },
    {
     "data": {
      "text/plain": [
       "array([nan,  1.,  1.,  1.,  1.,  1.,  1.,  1.,  1.,  1.,  1.,  1.,  1.,\n",
       "        1.,  1.,  1.,  1.,  1.,  1.,  1.,  1.,  1.,  1.,  1.])"
      ]
     },
     "execution_count": 19,
     "metadata": {},
     "output_type": "execute_result"
    }
   ],
   "source": [
    "Array2 / Array2 # 2 diziyi birbirine böldük fakat 0/0 tanımsız ama hata almıyoruz sadece uyarı."
   ]
  },
  {
   "cell_type": "code",
   "execution_count": 25,
   "id": "f6c67710",
   "metadata": {},
   "outputs": [],
   "source": [
    "newArray2 = Array2[1:]"
   ]
  },
  {
   "cell_type": "code",
   "execution_count": 27,
   "id": "e66ca794",
   "metadata": {},
   "outputs": [
    {
     "data": {
      "text/plain": [
       "array([1., 1., 1., 1., 1., 1., 1., 1., 1., 1., 1., 1., 1., 1., 1., 1., 1.,\n",
       "       1., 1., 1., 1., 1., 1.])"
      ]
     },
     "execution_count": 27,
     "metadata": {},
     "output_type": "execute_result"
    }
   ],
   "source": [
    "newArray2 / newArray2"
   ]
  },
  {
   "cell_type": "code",
   "execution_count": 28,
   "id": "fd07088d",
   "metadata": {},
   "outputs": [
    {
     "data": {
      "text/plain": [
       "array([0.        , 1.        , 1.41421356, 1.73205081, 2.        ,\n",
       "       2.23606798, 2.44948974, 2.64575131, 2.82842712, 3.        ,\n",
       "       3.16227766, 3.31662479, 3.46410162, 3.60555128, 3.74165739,\n",
       "       3.87298335, 4.        , 4.12310563, 4.24264069, 4.35889894,\n",
       "       4.47213595, 4.58257569, 4.69041576, 4.79583152])"
      ]
     },
     "execution_count": 28,
     "metadata": {},
     "output_type": "execute_result"
    }
   ],
   "source": [
    "np.sqrt(Array2) # karekök aldık."
   ]
  },
  {
   "cell_type": "code",
   "execution_count": 30,
   "id": "23286fda",
   "metadata": {},
   "outputs": [
    {
     "name": "stdout",
     "output_type": "stream",
     "text": [
      "23,0\n"
     ]
    }
   ],
   "source": [
    "print(f\"{np.max(Array2)},{np.min(Array2)}\") # Max , Min değerleri."
   ]
  }
 ],
 "metadata": {
  "kernelspec": {
   "display_name": "Python 3 (ipykernel)",
   "language": "python",
   "name": "python3"
  },
  "language_info": {
   "codemirror_mode": {
    "name": "ipython",
    "version": 3
   },
   "file_extension": ".py",
   "mimetype": "text/x-python",
   "name": "python",
   "nbconvert_exporter": "python",
   "pygments_lexer": "ipython3",
   "version": "3.11.3"
  }
 },
 "nbformat": 4,
 "nbformat_minor": 5
}
