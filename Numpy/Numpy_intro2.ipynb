{
 "cells": [
  {
   "cell_type": "code",
   "execution_count": 1,
   "id": "d218e293",
   "metadata": {},
   "outputs": [],
   "source": [
    "import numpy as np"
   ]
  },
  {
   "cell_type": "code",
   "execution_count": 2,
   "id": "dcceb5f2",
   "metadata": {},
   "outputs": [],
   "source": [
    "myArray = np.arange(0,15)"
   ]
  },
  {
   "cell_type": "code",
   "execution_count": 3,
   "id": "8dbcea2c",
   "metadata": {},
   "outputs": [
    {
     "data": {
      "text/plain": [
       "array([ 0,  1,  2,  3,  4,  5,  6,  7,  8,  9, 10, 11, 12, 13, 14])"
      ]
     },
     "execution_count": 3,
     "metadata": {},
     "output_type": "execute_result"
    }
   ],
   "source": [
    "myArray"
   ]
  },
  {
   "cell_type": "code",
   "execution_count": 4,
   "id": "876c88bc",
   "metadata": {},
   "outputs": [
    {
     "data": {
      "text/plain": [
       "5"
      ]
     },
     "execution_count": 4,
     "metadata": {},
     "output_type": "execute_result"
    }
   ],
   "source": [
    "myArray[5]"
   ]
  },
  {
   "cell_type": "code",
   "execution_count": 5,
   "id": "b1f645df",
   "metadata": {},
   "outputs": [
    {
     "data": {
      "text/plain": [
       "array([3, 4, 5, 6])"
      ]
     },
     "execution_count": 5,
     "metadata": {},
     "output_type": "execute_result"
    }
   ],
   "source": [
    "myArray[3:7]"
   ]
  },
  {
   "cell_type": "code",
   "execution_count": 6,
   "id": "982fb986",
   "metadata": {},
   "outputs": [],
   "source": [
    "myArray[3:7] = -2 # bu işlem direkt myArray içindekileri değiştirir ayrı bir dizi oluşturmaz."
   ]
  },
  {
   "cell_type": "code",
   "execution_count": 7,
   "id": "66e740d4",
   "metadata": {},
   "outputs": [
    {
     "data": {
      "text/plain": [
       "array([ 0,  1,  2, -2, -2, -2, -2,  7,  8,  9, 10, 11, 12, 13, 14])"
      ]
     },
     "execution_count": 7,
     "metadata": {},
     "output_type": "execute_result"
    }
   ],
   "source": [
    "myArray"
   ]
  },
  {
   "cell_type": "code",
   "execution_count": 9,
   "id": "770a9e61",
   "metadata": {},
   "outputs": [],
   "source": [
    "anotherArray = np.arange(24) # 0,24 arası oluturur. (0,24) ile aynı mantık."
   ]
  },
  {
   "cell_type": "code",
   "execution_count": 11,
   "id": "2c6b5196",
   "metadata": {},
   "outputs": [
    {
     "data": {
      "text/plain": [
       "array([ 0,  1,  2,  3,  4,  5,  6,  7,  8,  9, 10, 11, 12, 13, 14, 15, 16,\n",
       "       17, 18, 19, 20, 21, 22, 23])"
      ]
     },
     "execution_count": 11,
     "metadata": {},
     "output_type": "execute_result"
    }
   ],
   "source": [
    "anotherArray"
   ]
  },
  {
   "cell_type": "code",
   "execution_count": 12,
   "id": "e1b5bff8",
   "metadata": {},
   "outputs": [],
   "source": [
    "slicingArray = anotherArray[3:9]"
   ]
  },
  {
   "cell_type": "code",
   "execution_count": 13,
   "id": "880ece32",
   "metadata": {},
   "outputs": [
    {
     "data": {
      "text/plain": [
       "array([3, 4, 5, 6, 7, 8])"
      ]
     },
     "execution_count": 13,
     "metadata": {},
     "output_type": "execute_result"
    }
   ],
   "source": [
    "slicingArray"
   ]
  },
  {
   "cell_type": "code",
   "execution_count": 14,
   "id": "bad0f667",
   "metadata": {},
   "outputs": [
    {
     "data": {
      "text/plain": [
       "array([ 0,  1,  2,  3,  4,  5,  6,  7,  8,  9, 10, 11, 12, 13, 14, 15, 16,\n",
       "       17, 18, 19, 20, 21, 22, 23])"
      ]
     },
     "execution_count": 14,
     "metadata": {},
     "output_type": "execute_result"
    }
   ],
   "source": [
    "anotherArray # şu an bunda bir değişiklik yapmadık"
   ]
  },
  {
   "cell_type": "code",
   "execution_count": 15,
   "id": "f11edf41",
   "metadata": {},
   "outputs": [],
   "source": [
    "slicingArray[:] = 70"
   ]
  },
  {
   "cell_type": "code",
   "execution_count": 16,
   "id": "3707700e",
   "metadata": {},
   "outputs": [
    {
     "data": {
      "text/plain": [
       "array([70, 70, 70, 70, 70, 70])"
      ]
     },
     "execution_count": 16,
     "metadata": {},
     "output_type": "execute_result"
    }
   ],
   "source": [
    "slicingArray"
   ]
  },
  {
   "cell_type": "code",
   "execution_count": 17,
   "id": "7d9c2524",
   "metadata": {},
   "outputs": [
    {
     "data": {
      "text/plain": [
       "array([ 0,  1,  2, 70, 70, 70, 70, 70, 70,  9, 10, 11, 12, 13, 14, 15, 16,\n",
       "       17, 18, 19, 20, 21, 22, 23])"
      ]
     },
     "execution_count": 17,
     "metadata": {},
     "output_type": "execute_result"
    }
   ],
   "source": [
    "anotherArray # Eğer slicingArray'da değişiklik yaparsak bu main Array'imizide etkiliyor."
   ]
  },
  {
   "cell_type": "code",
   "execution_count": 18,
   "id": "75dafbb4",
   "metadata": {},
   "outputs": [],
   "source": [
    "anotherArray_2 = np.arange(24)"
   ]
  },
  {
   "cell_type": "code",
   "execution_count": 19,
   "id": "7cbc01ed",
   "metadata": {},
   "outputs": [
    {
     "data": {
      "text/plain": [
       "array([ 0,  1,  2,  3,  4,  5,  6,  7,  8,  9, 10, 11, 12, 13, 14, 15, 16,\n",
       "       17, 18, 19, 20, 21, 22, 23])"
      ]
     },
     "execution_count": 19,
     "metadata": {},
     "output_type": "execute_result"
    }
   ],
   "source": [
    "anotherArray_2"
   ]
  },
  {
   "cell_type": "code",
   "execution_count": 20,
   "id": "2ffe0728",
   "metadata": {},
   "outputs": [],
   "source": [
    "anotherArray_2_copy = anotherArray_2.copy()"
   ]
  },
  {
   "cell_type": "code",
   "execution_count": 21,
   "id": "4742ef0e",
   "metadata": {},
   "outputs": [
    {
     "data": {
      "text/plain": [
       "array([ 0,  1,  2,  3,  4,  5,  6,  7,  8,  9, 10, 11, 12, 13, 14, 15, 16,\n",
       "       17, 18, 19, 20, 21, 22, 23])"
      ]
     },
     "execution_count": 21,
     "metadata": {},
     "output_type": "execute_result"
    }
   ],
   "source": [
    "anotherArray_2_copy"
   ]
  },
  {
   "cell_type": "code",
   "execution_count": 22,
   "id": "10a16d0e",
   "metadata": {},
   "outputs": [
    {
     "data": {
      "text/plain": [
       "array([ 0,  1,  2,  3,  4,  5,  6,  7,  8,  9, 10, 11, 12, 13, 14, 15, 16,\n",
       "       17, 18, 19, 20, 21, 22, 23])"
      ]
     },
     "execution_count": 22,
     "metadata": {},
     "output_type": "execute_result"
    }
   ],
   "source": [
    "anotherArray_2"
   ]
  },
  {
   "cell_type": "code",
   "execution_count": 23,
   "id": "4ee6226f",
   "metadata": {},
   "outputs": [],
   "source": [
    "anotherArray_2_slicing = anotherArray_2_copy[3:8]"
   ]
  },
  {
   "cell_type": "code",
   "execution_count": 25,
   "id": "b99b50d5",
   "metadata": {},
   "outputs": [],
   "source": [
    "anotherArray_2_slicing[:] = 100"
   ]
  },
  {
   "cell_type": "code",
   "execution_count": 26,
   "id": "612963f7",
   "metadata": {},
   "outputs": [
    {
     "data": {
      "text/plain": [
       "array([100, 100, 100, 100, 100])"
      ]
     },
     "execution_count": 26,
     "metadata": {},
     "output_type": "execute_result"
    }
   ],
   "source": [
    "anotherArray_2_slicing"
   ]
  },
  {
   "cell_type": "code",
   "execution_count": 27,
   "id": "b4fee783",
   "metadata": {},
   "outputs": [
    {
     "data": {
      "text/plain": [
       "array([  0,   1,   2, 100, 100, 100, 100, 100,   8,   9,  10,  11,  12,\n",
       "        13,  14,  15,  16,  17,  18,  19,  20,  21,  22,  23])"
      ]
     },
     "execution_count": 27,
     "metadata": {},
     "output_type": "execute_result"
    }
   ],
   "source": [
    "anotherArray_2_copy"
   ]
  },
  {
   "cell_type": "code",
   "execution_count": 28,
   "id": "cf5b2bdc",
   "metadata": {},
   "outputs": [
    {
     "data": {
      "text/plain": [
       "array([ 0,  1,  2,  3,  4,  5,  6,  7,  8,  9, 10, 11, 12, 13, 14, 15, 16,\n",
       "       17, 18, 19, 20, 21, 22, 23])"
      ]
     },
     "execution_count": 28,
     "metadata": {},
     "output_type": "execute_result"
    }
   ],
   "source": [
    "anotherArray_2 # Eğer main Arrayde değişiklik olmasın istiyorsak copy fonksiyonunu kullanıcağız."
   ]
  }
 ],
 "metadata": {
  "kernelspec": {
   "display_name": "Python 3 (ipykernel)",
   "language": "python",
   "name": "python3"
  },
  "language_info": {
   "codemirror_mode": {
    "name": "ipython",
    "version": 3
   },
   "file_extension": ".py",
   "mimetype": "text/x-python",
   "name": "python",
   "nbconvert_exporter": "python",
   "pygments_lexer": "ipython3",
   "version": "3.11.3"
  }
 },
 "nbformat": 4,
 "nbformat_minor": 5
}
