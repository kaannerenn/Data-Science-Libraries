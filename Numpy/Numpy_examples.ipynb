{
 "cells": [
  {
   "cell_type": "markdown",
   "id": "c1330e1d",
   "metadata": {},
   "source": [
    "#  Easy"
   ]
  },
  {
   "cell_type": "code",
   "execution_count": 9,
   "id": "d2e739f8",
   "metadata": {},
   "outputs": [],
   "source": [
    "import numpy as np"
   ]
  },
  {
   "cell_type": "code",
   "execution_count": 143,
   "id": "d0ca8161",
   "metadata": {},
   "outputs": [
    {
     "name": "stdout",
     "output_type": "stream",
     "text": [
      "[0 1 2 3 4 5 6 7 8 9]\n"
     ]
    }
   ],
   "source": [
    "# 0–9 arası bir array oluştur.\n",
    "Array1 = np.arange(0,10)\n",
    "print(Array1)"
   ]
  },
  {
   "cell_type": "code",
   "execution_count": 144,
   "id": "8fc2b391",
   "metadata": {},
   "outputs": [
    {
     "name": "stdout",
     "output_type": "stream",
     "text": [
      "[17  2 47 11 17 22  1 45 46 25]\n"
     ]
    }
   ],
   "source": [
    "# 10 elemanlı bir rastgele integer array üret (0-50 arası).\n",
    "randomArray = np.random.randint(0,51,10)\n",
    "print(randomArray)"
   ]
  },
  {
   "cell_type": "code",
   "execution_count": 145,
   "id": "28ef52b5",
   "metadata": {},
   "outputs": [
    {
     "name": "stdout",
     "output_type": "stream",
     "text": [
      "1\n",
      "47\n",
      "23.3\n",
      "16.535114151405185\n"
     ]
    }
   ],
   "source": [
    "# Bu array’in en küçük, en büyük, ortalama, standart sapma değerlerini bul.\n",
    "print(randomArray.min())\n",
    "print(randomArray.max())\n",
    "print(randomArray.mean())\n",
    "print(randomArray.std())"
   ]
  },
  {
   "cell_type": "code",
   "execution_count": 14,
   "id": "4cea9d45",
   "metadata": {},
   "outputs": [
    {
     "name": "stdout",
     "output_type": "stream",
     "text": [
      "[0.         0.26315789 0.52631579 0.78947368 1.05263158 1.31578947\n",
      " 1.57894737 1.84210526 2.10526316 2.36842105 2.63157895 2.89473684\n",
      " 3.15789474 3.42105263 3.68421053 3.94736842 4.21052632 4.47368421\n",
      " 4.73684211 5.        ]\n"
     ]
    }
   ],
   "source": [
    "# 0 ile 5 arasında 20 eşit sayı üret.\n",
    "Array2 = np.linspace(0,5,20)\n",
    "print(Array2)\n",
    "# np.linspace(0, 5, 20, endpoint=False) şeklinde 5'i dahil etmeyebiliriz. Defaul olarak endpoint = True"
   ]
  },
  {
   "cell_type": "code",
   "execution_count": 148,
   "id": "07dd88c8",
   "metadata": {},
   "outputs": [
    {
     "name": "stdout",
     "output_type": "stream",
     "text": [
      "[[1. 0. 0.]\n",
      " [0. 1. 0.]\n",
      " [0. 0. 1.]]\n",
      "\n",
      "[[1 0 0]\n",
      " [0 1 0]\n",
      " [0 0 1]]\n"
     ]
    }
   ],
   "source": [
    "#3x3 boyutunda identity matrix oluştur\n",
    "identityMatrix = np.eye(3)\n",
    "print(identityMatrix)\n",
    "int_identity_Matrix = np.eye(3, dtype = int)\n",
    "print(\"\")\n",
    "print(int_identity_Matrix) # şeklinde integer olarakta alabilirz."
   ]
  },
  {
   "cell_type": "markdown",
   "id": "6476d9cc",
   "metadata": {},
   "source": [
    "# Mid"
   ]
  },
  {
   "cell_type": "code",
   "execution_count": 153,
   "id": "e47dd486",
   "metadata": {},
   "outputs": [
    {
     "name": "stdout",
     "output_type": "stream",
     "text": [
      "[[20 21 61 12 75]\n",
      " [98 76 18 78  5]\n",
      " [77 47 54 21 78]\n",
      " [96  5 44 29 97]\n",
      " [79 86 80 22 44]]\n",
      "\n",
      "[20 76 54 29 44]\n",
      "\n",
      "[20 76 54 29 44]\n"
     ]
    }
   ],
   "source": [
    "# 5x5 boyutunda rastgele matrix üret → köşegenini al.\n",
    "Array_5 = np.random.randint(0,100,25)\n",
    "Array_5 = Array_5.reshape(5,5)\n",
    "print(Array_5)\n",
    "diag_Array_5 = Array_5.diagonal()\n",
    "print(\"\")\n",
    "print(diag_Array_5)\n",
    "print(\"\")\n",
    "diag_Array_6 = Array_5[np.arange(5), np.arange(5)] # alternatif olarak bu kullanılabilir\n",
    "print(diag_Array_6)"
   ]
  },
  {
   "cell_type": "code",
   "execution_count": 157,
   "id": "aeb28e93",
   "metadata": {},
   "outputs": [
    {
     "name": "stdout",
     "output_type": "stream",
     "text": [
      "Matrix\n",
      "\n",
      "[[ 0  1  2  3  4]\n",
      " [ 5  6  7  8  9]\n",
      " [10 11 12 13 14]\n",
      " [15 16 17 18 19]\n",
      " [20 21 22 23 24]],\n",
      "\n",
      "2. satır = [5 6 7 8 9],\n",
      "\n",
      "1. sütun = [ 0  5 10 15 20],\n",
      "\n",
      "3x3 ortadaki matris =\n",
      "\n",
      "[[ 6  7  8]\n",
      " [11 12 13]\n",
      " [16 17 18]]\n"
     ]
    }
   ],
   "source": [
    "# 0,25 arasındaki sayılardan 5x5 matris üret 2. satırı seç, 1. sütunu seç, 3x3’lük ortadaki matrisi al\n",
    "arr = np.arange(25).reshape(5,5)\n",
    "print(f\"Matrix\\n\\n{arr},\\n\\n2. satır = {arr[1]},\\n\\n1. sütun = {arr[:,0]},\\n\\n3x3 ortadaki matris =\\n\\n{arr[1:4,1:4]}\")"
   ]
  },
  {
   "cell_type": "code",
   "execution_count": 168,
   "id": "2fac90c8",
   "metadata": {},
   "outputs": [
    {
     "name": "stdout",
     "output_type": "stream",
     "text": [
      "[68 31 19 35 39 47 14 74 11 40]\n",
      "[68 14 74 40]\n"
     ]
    }
   ],
   "source": [
    "# 1D array’den sadece çift sayıları seç (boolean mask ile).\n",
    "arr_2 = np.random.randint(0,100,10)\n",
    "print(arr_2)\n",
    "even_arr_2 = arr_2[arr_2 % 2 == 0]\n",
    "print(even_arr_2)"
   ]
  },
  {
   "cell_type": "code",
   "execution_count": 159,
   "id": "92442f3a",
   "metadata": {},
   "outputs": [
    {
     "name": "stdout",
     "output_type": "stream",
     "text": [
      "[0 1 2 3 4 5 6 7 8 9]\n",
      "[1 3 5 7]\n"
     ]
    }
   ],
   "source": [
    "# 0-10 arası array üretip fancy indexingle 4 değer seç\n",
    "fancy_arr = np.arange(0,10)\n",
    "print(fancy_arr)\n",
    "print(fancy_arr[[1,3,5,7]])"
   ]
  },
  {
   "cell_type": "code",
   "execution_count": 174,
   "id": "4bf1c465",
   "metadata": {},
   "outputs": [
    {
     "name": "stdout",
     "output_type": "stream",
     "text": [
      "[92 30 59 91 10 80 68 18 54 30]\n",
      "[10 18 30 30 54 59 68 80 91 92]\n",
      "[92 30 59 91 10 80 68 18 54 30]\n",
      "[10 18 30 30 54 59 68 80 91 92]\n",
      "[10 18 30 30 54 59 68 80 91 92]\n"
     ]
    }
   ],
   "source": [
    "# 10 elemanlı rastgele bir array üret, ascending sırala.\n",
    "random_array = np.random.randint(0,100,10)\n",
    "print(random_array)\n",
    "print(np.sort(random_array)) # np.sort() → yeni sıralanmış kopya döndürür.\n",
    "print(random_array)\n",
    "random_array.sort() # Eğer array’i yerinde sıralamak istersek bu şekilde yapmalıyız\n",
    "print(random_array)\n",
    "print(random_array)"
   ]
  },
  {
   "cell_type": "markdown",
   "id": "21bfd409",
   "metadata": {},
   "source": [
    "# Hard"
   ]
  },
  {
   "cell_type": "code",
   "execution_count": 176,
   "id": "6d7faa37",
   "metadata": {},
   "outputs": [
    {
     "name": "stdout",
     "output_type": "stream",
     "text": [
      "[[24 72 31]\n",
      " [ 2 11 86]\n",
      " [42 99  7]]\n",
      "\n",
      "[[ 9 10 41]\n",
      " [11 31 29]\n",
      " [35 42  6]]\n"
     ]
    }
   ],
   "source": [
    "# 3x3’lük iki rastgele array oluştur\n",
    "rand_arr = np.random.randint(0,100,9).reshape(3,3)\n",
    "print(rand_arr)\n",
    "print(\"\")\n",
    "print(np.random.randint(0,100,(3,3))) # Farklı bir yaklaşımşa bu şekilde reshape olmadan oluşturabiliriz daha doğru bu."
   ]
  },
  {
   "cell_type": "code",
   "execution_count": 187,
   "id": "e8ef281e",
   "metadata": {},
   "outputs": [
    {
     "name": "stdout",
     "output_type": "stream",
     "text": [
      "[[1 2 0 9]\n",
      " [4 2 2 8]\n",
      " [7 9 5 9]\n",
      " [8 7 8 8]]\n",
      "\n",
      "[[-0.44583333  0.56041667  0.1625     -0.24166667]\n",
      " [ 0.06666667 -0.23333333  0.2        -0.06666667]\n",
      " [ 0.24166667 -0.34583333 -0.275       0.38333333]\n",
      " [ 0.14583333 -0.01041667 -0.0625      0.04166667]]\n",
      "\n",
      "Sütun ortalamları = [5.   5.   3.75 8.5 ]\n",
      "Satır ortalamları = [3.   4.   7.5  7.75]\n",
      "\n",
      "Sütun ortalamaları: [5.0, 5.0, 3.75, 8.5]\n",
      "Satır ortalamaları: [3.0, 4.0, 7.5, 7.75]\n"
     ]
    }
   ],
   "source": [
    "# 4x4 rastgele matris oluştur\n",
    "# Aynı matrisin tersini al.\n",
    "# Matrisin her sütununun ortalamasını bul.\n",
    "rand_arr_4 = np.random.randint(0,10,16).reshape(4,4)\n",
    "print(rand_arr_4)\n",
    "from numpy.linalg import inv\n",
    "inv_arr = inv(rand_arr_4)\n",
    "print(\"\")\n",
    "print(inv_arr)\n",
    "print(\"\")\n",
    "print(f\"Sütun ortalamları = {rand_arr_4.mean(axis=0)}\")\n",
    "print(f\"Satır ortalamları = {rand_arr_4.mean(axis=1)}\")\n",
    "\n",
    "rows , cols = rand_arr_4.shape\n",
    "\n",
    "row_means = []\n",
    "col_means = []\n",
    "\n",
    "for i in range(0,rows):\n",
    "    sum_rows = 0\n",
    "    for j in range(0,cols):\n",
    "        sum_rows += rand_arr_4[i,j]\n",
    "    row_means.append(sum_rows/cols)\n",
    "\n",
    "for j in range(cols):                 \n",
    "    sum_cols = 0\n",
    "    for i in range(rows):             \n",
    "        sum_cols += rand_arr_4[i, j]\n",
    "    col_means.append(sum_cols / rows)      \n",
    "print(\"\")\n",
    "print(\"Sütun ortalamaları:\", col_means)\n",
    "print(\"Satır ortalamaları:\", row_means) # Bu şekilde for yaklaşımıylada bulabiliriz, satır ve sütun mean'leri."
   ]
  },
  {
   "cell_type": "code",
   "execution_count": 142,
   "id": "b070c814",
   "metadata": {},
   "outputs": [
    {
     "name": "stdout",
     "output_type": "stream",
     "text": [
      "[[ 1  2]\n",
      " [ 3 14]]\n",
      "[[False False]\n",
      " [False  True]]\n"
     ]
    }
   ],
   "source": [
    "# 2 boyutlu array’de hangi elemanların > 10 olduğunu True/False olarak göster (boolean mask)\n",
    "list1 = [[1,2],[3,14]]\n",
    "arr_2d = np.array(list1)\n",
    "print(arr_2d)\n",
    "print(arr_2d > 10)"
   ]
  }
 ],
 "metadata": {
  "kernelspec": {
   "display_name": "Python 3 (ipykernel)",
   "language": "python",
   "name": "python3"
  },
  "language_info": {
   "codemirror_mode": {
    "name": "ipython",
    "version": 3
   },
   "file_extension": ".py",
   "mimetype": "text/x-python",
   "name": "python",
   "nbconvert_exporter": "python",
   "pygments_lexer": "ipython3",
   "version": "3.11.3"
  }
 },
 "nbformat": 4,
 "nbformat_minor": 5
}
