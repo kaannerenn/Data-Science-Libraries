{
 "cells": [
  {
   "cell_type": "markdown",
   "id": "97e2d0c0",
   "metadata": {},
   "source": [
    "# 1. Sudoku Grid Üretme"
   ]
  },
  {
   "cell_type": "code",
   "execution_count": 21,
   "id": "95d4087d",
   "metadata": {},
   "outputs": [],
   "source": [
    "import numpy as np"
   ]
  },
  {
   "cell_type": "code",
   "execution_count": 22,
   "id": "f8499dc5",
   "metadata": {},
   "outputs": [
    {
     "name": "stdout",
     "output_type": "stream",
     "text": [
      "[6 7 5 3 6 9 3 5 7 2 1 2 2 9 5 9 4 6 3 9 2 6 4 3 8 6 8 5 9 4 9 7 2 8 4 6 6\n",
      " 9 4 3 2 6 6 3 5 2 8 2 1 9 7 5 2 7 1 5 2 3 8 1 4 1 6 1 6 5 8 4 2 7 8 7 5 2\n",
      " 1 7 2 7 6 5 5]\n"
     ]
    }
   ],
   "source": [
    "# 9x9’luk bir matris oluştur (0–9 arası)\n",
    "sudoku_array = np.random.randint(1,10,81)\n",
    "print(sudoku_array)"
   ]
  },
  {
   "cell_type": "code",
   "execution_count": 23,
   "id": "7d61314f",
   "metadata": {},
   "outputs": [
    {
     "name": "stdout",
     "output_type": "stream",
     "text": [
      "[6 7 0 0 0 9 0 0 0 0 1 2 2 9 0 9 4 6 3 9 2 6 0 0 8 0 0 0 0 0 9 7 0 0 0 6 6\n",
      " 0 0 3 2 0 0 3 5 0 0 0 1 9 0 0 2 0 1 0 0 0 0 1 4 1 6 1 0 0 0 4 0 7 8 0 0 0\n",
      " 0 0 0 7 6 0 0]\n"
     ]
    }
   ],
   "source": [
    "# Bazı hücreleri rastgele 0 yap (boş bırak)\n",
    "indices = np.random.choice(np.arange(sudoku_array.size), replace=False,size=int(sudoku_array.size * 0.55))\n",
    "sudoku_array[indices] = 0\n",
    "print(sudoku_array)"
   ]
  },
  {
   "cell_type": "code",
   "execution_count": 24,
   "id": "805c2b58",
   "metadata": {},
   "outputs": [
    {
     "name": "stdout",
     "output_type": "stream",
     "text": [
      "[[6 7 0 0 0 9 0 0 0]\n",
      " [0 1 2 2 9 0 9 4 6]\n",
      " [3 9 2 6 0 0 8 0 0]\n",
      " [0 0 0 9 7 0 0 0 6]\n",
      " [6 0 0 3 2 0 0 3 5]\n",
      " [0 0 0 1 9 0 0 2 0]\n",
      " [1 0 0 0 0 1 4 1 6]\n",
      " [1 0 0 0 4 0 7 8 0]\n",
      " [0 0 0 0 0 7 6 0 0]]\n"
     ]
    }
   ],
   "source": [
    "sudoku_array = sudoku_array.reshape(9,9)\n",
    "print(sudoku_array)"
   ]
  },
  {
   "cell_type": "code",
   "execution_count": 25,
   "id": "36e76b3f",
   "metadata": {},
   "outputs": [],
   "source": [
    "# Satır kontrolü yapan fonksiyon\n",
    "def control_row(matrix):\n",
    "    rows, cols = matrix.shape\n",
    "    for i in range(rows):\n",
    "        seen = set()\n",
    "        for j in range(cols):\n",
    "            val = matrix[i,j]\n",
    "            if val == 0:\n",
    "                continue\n",
    "            if val in seen:\n",
    "                new_val = np.random.randint(1,10)\n",
    "                while new_val in seen:\n",
    "                    new_val = np.random.randint(1,10)\n",
    "                matrix[i,j] =new_val\n",
    "                seen.add(new_val)\n",
    "            else:\n",
    "                seen.add(val)\n",
    "\n",
    "# Sütun kontrolü yapan fonksiyon\n",
    "def control_column(matrix):\n",
    "    rows, cols = matrix.shape\n",
    "    for i in range(cols):\n",
    "        seen = set()\n",
    "        for j in range(rows):\n",
    "            val = matrix[j,i]\n",
    "            if val == 0:\n",
    "                continue\n",
    "            if val in seen:\n",
    "                new_val = np.random.randint(1,10)\n",
    "                while new_val in seen:\n",
    "                    new_val = np.random.randint(1,10)\n",
    "                matrix[j,i] =new_val\n",
    "                seen.add(new_val)\n",
    "            else:\n",
    "                seen.add(val)"
   ]
  },
  {
   "cell_type": "code",
   "execution_count": 26,
   "id": "c6ed60f7",
   "metadata": {},
   "outputs": [
    {
     "name": "stdout",
     "output_type": "stream",
     "text": [
      "[[6 7 0 0 0 9 0 0 0]\n",
      " [0 1 2 5 9 0 8 4 6]\n",
      " [3 9 4 6 0 0 2 0 0]\n",
      " [0 0 0 9 7 0 0 0 4]\n",
      " [4 0 0 3 2 0 0 7 5]\n",
      " [0 0 0 1 6 0 0 2 0]\n",
      " [1 0 0 0 0 7 4 3 2]\n",
      " [9 0 0 0 4 0 7 8 0]\n",
      " [0 0 0 0 0 4 6 0 0]]\n"
     ]
    }
   ],
   "source": [
    "for _ in range(5): # Geçici bir yöntem satırdan sonra sütun kontrolü yapınca bazen aynı değer gelebiliyordu. Değiştirilicek.\n",
    "    control_row(sudoku_array)\n",
    "    control_column(sudoku_array)\n",
    "print(sudoku_array)"
   ]
  },
  {
   "cell_type": "code",
   "execution_count": 27,
   "id": "eafaac89",
   "metadata": {},
   "outputs": [],
   "source": [
    "def control_3x3(matrix):\n",
    "    rows,cols = matrix.shape\n",
    "    matrix = matrix.reshape(rows*cols,1)\n",
    "    seen = set()\n",
    "    for i in range(rows*cols):\n",
    "        if matrix[i,0] == 0:\n",
    "            continue\n",
    "        if matrix[i,0] in seen:\n",
    "            new_val = np.random.randint(1,10)\n",
    "            while new_val in seen:\n",
    "                new_val = np.random.randint(1,10)\n",
    "            matrix[i,0] = new_val\n",
    "            seen.add(new_val)\n",
    "        else:\n",
    "            seen.add(matrix[i,0])\n",
    "    return matrix.reshape(rows,cols)"
   ]
  },
  {
   "cell_type": "code",
   "execution_count": 29,
   "id": "5a2ff673",
   "metadata": {},
   "outputs": [
    {
     "name": "stdout",
     "output_type": "stream",
     "text": [
      "Blok (0,0):\n",
      "[[6 7 0]\n",
      " [0 1 2]\n",
      " [3 9 4]]\n",
      "\n",
      "Blok (0,1):\n",
      "[[0 0 9]\n",
      " [5 8 0]\n",
      " [6 0 0]]\n",
      "\n",
      "Blok (0,2):\n",
      "[[0 0 0]\n",
      " [8 4 6]\n",
      " [2 0 0]]\n",
      "\n",
      "Blok (1,0):\n",
      "[[0 0 0]\n",
      " [4 0 0]\n",
      " [0 0 0]]\n",
      "\n",
      "Blok (1,1):\n",
      "[[9 7 0]\n",
      " [3 2 0]\n",
      " [1 6 0]]\n",
      "\n",
      "Blok (1,2):\n",
      "[[0 0 4]\n",
      " [0 7 5]\n",
      " [0 2 0]]\n",
      "\n",
      "Blok (2,0):\n",
      "[[1 0 0]\n",
      " [9 0 0]\n",
      " [0 0 0]]\n",
      "\n",
      "Blok (2,1):\n",
      "[[0 0 7]\n",
      " [0 4 0]\n",
      " [0 0 9]]\n",
      "\n",
      "Blok (2,2):\n",
      "[[4 3 2]\n",
      " [7 8 0]\n",
      " [6 0 0]]\n",
      "\n"
     ]
    }
   ],
   "source": [
    "for i in range(3):         \n",
    "    for j in range(3):     \n",
    "        block = sudoku_array[i*3:(i+1)*3, j*3:(j+1)*3]\n",
    "        sudoku_array[i*3:(i+1)*3, j*3:(j+1)*3] = control_3x3(block)\n",
    "        print(f\"Blok ({i},{j}):\")\n",
    "        print(block)\n",
    "        print()\n"
   ]
  },
  {
   "cell_type": "code",
   "execution_count": 30,
   "id": "d6a9d533",
   "metadata": {},
   "outputs": [
    {
     "name": "stdout",
     "output_type": "stream",
     "text": [
      "[[6 7 0 0 0 9 0 0 0]\n",
      " [0 1 2 5 8 0 8 4 6]\n",
      " [3 9 4 6 0 0 2 0 0]\n",
      " [0 0 0 9 7 0 0 0 4]\n",
      " [4 0 0 3 2 0 0 7 5]\n",
      " [0 0 0 1 6 0 0 2 0]\n",
      " [1 0 0 0 0 7 4 3 2]\n",
      " [9 0 0 0 4 0 7 8 0]\n",
      " [0 0 0 0 0 9 6 0 0]]\n"
     ]
    }
   ],
   "source": [
    "print(sudoku_array) # son hali"
   ]
  }
 ],
 "metadata": {
  "kernelspec": {
   "display_name": "Python 3 (ipykernel)",
   "language": "python",
   "name": "python3"
  },
  "language_info": {
   "codemirror_mode": {
    "name": "ipython",
    "version": 3
   },
   "file_extension": ".py",
   "mimetype": "text/x-python",
   "name": "python",
   "nbconvert_exporter": "python",
   "pygments_lexer": "ipython3",
   "version": "3.11.3"
  }
 },
 "nbformat": 4,
 "nbformat_minor": 5
}
