{
 "cells": [
  {
   "cell_type": "code",
   "execution_count": 1,
   "id": "8f530c41",
   "metadata": {},
   "outputs": [],
   "source": [
    "import numpy as np"
   ]
  },
  {
   "cell_type": "markdown",
   "id": "81a81349",
   "metadata": {},
   "source": [
    "## Numpy Arrays"
   ]
  },
  {
   "cell_type": "code",
   "execution_count": 2,
   "id": "97fde090",
   "metadata": {},
   "outputs": [],
   "source": [
    "myList = [20, 30, 40]"
   ]
  },
  {
   "cell_type": "code",
   "execution_count": 3,
   "id": "334c17e2",
   "metadata": {},
   "outputs": [
    {
     "data": {
      "text/plain": [
       "list"
      ]
     },
     "execution_count": 3,
     "metadata": {},
     "output_type": "execute_result"
    }
   ],
   "source": [
    "type(myList)"
   ]
  },
  {
   "cell_type": "code",
   "execution_count": 4,
   "id": "de379191",
   "metadata": {},
   "outputs": [
    {
     "data": {
      "text/plain": [
       "array([20, 30, 40])"
      ]
     },
     "execution_count": 4,
     "metadata": {},
     "output_type": "execute_result"
    }
   ],
   "source": [
    "np.array(myList)"
   ]
  },
  {
   "cell_type": "code",
   "execution_count": 6,
   "id": "25936b39",
   "metadata": {},
   "outputs": [
    {
     "data": {
      "text/plain": [
       "numpy.ndarray"
      ]
     },
     "execution_count": 6,
     "metadata": {},
     "output_type": "execute_result"
    }
   ],
   "source": [
    "type(np.array(myList))"
   ]
  },
  {
   "cell_type": "code",
   "execution_count": 7,
   "id": "4deb6cef",
   "metadata": {},
   "outputs": [],
   "source": [
    "matrixList = [[10,20,30], [20,30,40], [30,40,50]]"
   ]
  },
  {
   "cell_type": "code",
   "execution_count": 8,
   "id": "f68e1eb2",
   "metadata": {},
   "outputs": [
    {
     "data": {
      "text/plain": [
       "list"
      ]
     },
     "execution_count": 8,
     "metadata": {},
     "output_type": "execute_result"
    }
   ],
   "source": [
    "type(matrixList)"
   ]
  },
  {
   "cell_type": "code",
   "execution_count": 9,
   "id": "b2bc9dc3",
   "metadata": {},
   "outputs": [
    {
     "data": {
      "text/plain": [
       "[20, 30, 40]"
      ]
     },
     "execution_count": 9,
     "metadata": {},
     "output_type": "execute_result"
    }
   ],
   "source": [
    "matrixList[1] # eski özellikleri hatırlamak adına"
   ]
  },
  {
   "cell_type": "code",
   "execution_count": 10,
   "id": "56f19d0b",
   "metadata": {},
   "outputs": [
    {
     "data": {
      "text/plain": [
       "30"
      ]
     },
     "execution_count": 10,
     "metadata": {},
     "output_type": "execute_result"
    }
   ],
   "source": [
    "matrixList[0][2] # eski özellikleri hatırlamak adına"
   ]
  },
  {
   "cell_type": "code",
   "execution_count": 11,
   "id": "259cae55",
   "metadata": {},
   "outputs": [
    {
     "data": {
      "text/plain": [
       "array([[10, 20, 30],\n",
       "       [20, 30, 40],\n",
       "       [30, 40, 50]])"
      ]
     },
     "execution_count": 11,
     "metadata": {},
     "output_type": "execute_result"
    }
   ],
   "source": [
    "np.array(matrixList)"
   ]
  },
  {
   "cell_type": "code",
   "execution_count": 13,
   "id": "71e40a51",
   "metadata": {},
   "outputs": [
    {
     "data": {
      "text/plain": [
       "numpy.ndarray"
      ]
     },
     "execution_count": 13,
     "metadata": {},
     "output_type": "execute_result"
    }
   ],
   "source": [
    "type(np.array(matrixList))"
   ]
  },
  {
   "cell_type": "markdown",
   "id": "fa0d72e8",
   "metadata": {},
   "source": [
    "## arange"
   ]
  },
  {
   "cell_type": "code",
   "execution_count": 14,
   "id": "2240ab3a",
   "metadata": {},
   "outputs": [
    {
     "data": {
      "text/plain": [
       "[0, 1, 2, 3, 4, 5, 6, 7, 8, 9]"
      ]
     },
     "execution_count": 14,
     "metadata": {},
     "output_type": "execute_result"
    }
   ],
   "source": [
    "list(range(0,10)) # eski özellikleri hatırlamak adına"
   ]
  },
  {
   "cell_type": "code",
   "execution_count": 16,
   "id": "1f327c72",
   "metadata": {},
   "outputs": [
    {
     "data": {
      "text/plain": [
       "array([0, 1, 2, 3, 4, 5, 6, 7, 8, 9])"
      ]
     },
     "execution_count": 16,
     "metadata": {},
     "output_type": "execute_result"
    }
   ],
   "source": [
    "np.arange(0,10) # Yukarıdaki işlemin aynısı (sadece liste yerine numpy dizisi oluşturuyor.)"
   ]
  },
  {
   "cell_type": "code",
   "execution_count": 17,
   "id": "946b4d17",
   "metadata": {},
   "outputs": [
    {
     "data": {
      "text/plain": [
       "array([0, 2, 4, 6, 8])"
      ]
     },
     "execution_count": 17,
     "metadata": {},
     "output_type": "execute_result"
    }
   ],
   "source": [
    "np.arange(0,10,2)"
   ]
  },
  {
   "cell_type": "markdown",
   "id": "1a9afbd6",
   "metadata": {},
   "source": [
    "## zeros "
   ]
  },
  {
   "cell_type": "code",
   "execution_count": 20,
   "id": "f3bf2b5d",
   "metadata": {},
   "outputs": [
    {
     "data": {
      "text/plain": [
       "array([0., 0., 0., 0., 0.])"
      ]
     },
     "execution_count": 20,
     "metadata": {},
     "output_type": "execute_result"
    }
   ],
   "source": [
    "np.zeros(5)"
   ]
  },
  {
   "cell_type": "code",
   "execution_count": 21,
   "id": "9ddd7bff",
   "metadata": {},
   "outputs": [
    {
     "data": {
      "text/plain": [
       "array([[0., 0.],\n",
       "       [0., 0.]])"
      ]
     },
     "execution_count": 21,
     "metadata": {},
     "output_type": "execute_result"
    }
   ],
   "source": [
    "np.zeros((2,2)) # 0 matrisi oluşturmak için"
   ]
  },
  {
   "cell_type": "code",
   "execution_count": 22,
   "id": "d6b2c762",
   "metadata": {},
   "outputs": [
    {
     "data": {
      "text/plain": [
       "array([1., 1., 1., 1., 1.])"
      ]
     },
     "execution_count": 22,
     "metadata": {},
     "output_type": "execute_result"
    }
   ],
   "source": [
    "np.ones(5)"
   ]
  },
  {
   "cell_type": "code",
   "execution_count": 23,
   "id": "6fefd542",
   "metadata": {},
   "outputs": [
    {
     "data": {
      "text/plain": [
       "array([[1., 1., 1.],\n",
       "       [1., 1., 1.],\n",
       "       [1., 1., 1.]])"
      ]
     },
     "execution_count": 23,
     "metadata": {},
     "output_type": "execute_result"
    }
   ],
   "source": [
    "np.ones((3,3))"
   ]
  },
  {
   "cell_type": "markdown",
   "id": "b6c5969e",
   "metadata": {},
   "source": [
    "## linspace"
   ]
  },
  {
   "cell_type": "code",
   "execution_count": 28,
   "id": "7fc32755",
   "metadata": {},
   "outputs": [
    {
     "data": {
      "text/plain": [
       "array([ 0.,  5., 10.])"
      ]
     },
     "execution_count": 28,
     "metadata": {},
     "output_type": "execute_result"
    }
   ],
   "source": [
    "np.linspace(0,10,3) # 0 ile 10 arasında 3 sayı yazdırıyoruz eşit aralıklarla."
   ]
  },
  {
   "cell_type": "markdown",
   "id": "748ec475",
   "metadata": {},
   "source": [
    "## eye"
   ]
  },
  {
   "cell_type": "code",
   "execution_count": 31,
   "id": "c5bd2038",
   "metadata": {},
   "outputs": [
    {
     "data": {
      "text/plain": [
       "array([[1., 0., 0., 0.],\n",
       "       [0., 1., 0., 0.],\n",
       "       [0., 0., 1., 0.],\n",
       "       [0., 0., 0., 1.]])"
      ]
     },
     "execution_count": 31,
     "metadata": {},
     "output_type": "execute_result"
    }
   ],
   "source": [
    "np.eye(4) # Identity matrix oluşturur."
   ]
  },
  {
   "cell_type": "markdown",
   "id": "21e5ebe9",
   "metadata": {},
   "source": [
    "## random"
   ]
  },
  {
   "cell_type": "code",
   "execution_count": 33,
   "id": "f60e907a",
   "metadata": {},
   "outputs": [
    {
     "data": {
      "text/plain": [
       "array([ 0.02459067, -0.5081715 , -1.53757671,  0.2569293 , -0.88409181])"
      ]
     },
     "execution_count": 33,
     "metadata": {},
     "output_type": "execute_result"
    }
   ],
   "source": [
    "np.random.randn(5) # 5 rastgele sayı üretir"
   ]
  },
  {
   "cell_type": "code",
   "execution_count": 34,
   "id": "663a919a",
   "metadata": {},
   "outputs": [
    {
     "data": {
      "text/plain": [
       "array([[-0.26888118, -1.51071848,  0.60527143,  0.21754177, -0.66478453],\n",
       "       [ 1.94705866, -0.40364725, -0.81382529,  0.17226833,  0.46992697],\n",
       "       [-0.10794929, -0.57283791, -1.62273755, -0.69435258, -0.49038873],\n",
       "       [ 2.8797649 , -1.52701977,  1.4144598 , -1.58251502,  1.2689107 ],\n",
       "       [ 0.23561418,  0.36342728, -0.15424739, -0.50680045, -0.86114426]])"
      ]
     },
     "execution_count": 34,
     "metadata": {},
     "output_type": "execute_result"
    }
   ],
   "source": [
    "np.random.randn(5,5) # 5x5 matris rastgele sayılarla üretir."
   ]
  },
  {
   "cell_type": "code",
   "execution_count": 51,
   "id": "39f4573f",
   "metadata": {},
   "outputs": [
    {
     "data": {
      "text/plain": [
       "7"
      ]
     },
     "execution_count": 51,
     "metadata": {},
     "output_type": "execute_result"
    }
   ],
   "source": [
    "np.random.randint(1,10) # 0 ile 10 arası (10 dahil değil) rastgele integer döndürür."
   ]
  },
  {
   "cell_type": "code",
   "execution_count": 52,
   "id": "fdc53fd3",
   "metadata": {},
   "outputs": [
    {
     "data": {
      "text/plain": [
       "array([5, 4, 8, 6, 9])"
      ]
     },
     "execution_count": 52,
     "metadata": {},
     "output_type": "execute_result"
    }
   ],
   "source": [
    "np.random.randint(1,10,5) # 1 ile 10 arası 5 tane integer."
   ]
  },
  {
   "cell_type": "code",
   "execution_count": 53,
   "id": "98055829",
   "metadata": {},
   "outputs": [],
   "source": [
    "myNumpyArray = np.arange(30)"
   ]
  },
  {
   "cell_type": "code",
   "execution_count": 54,
   "id": "c7c56c73",
   "metadata": {},
   "outputs": [
    {
     "data": {
      "text/plain": [
       "array([ 0,  1,  2,  3,  4,  5,  6,  7,  8,  9, 10, 11, 12, 13, 14, 15, 16,\n",
       "       17, 18, 19, 20, 21, 22, 23, 24, 25, 26, 27, 28, 29])"
      ]
     },
     "execution_count": 54,
     "metadata": {},
     "output_type": "execute_result"
    }
   ],
   "source": [
    "myNumpyArray"
   ]
  },
  {
   "cell_type": "code",
   "execution_count": 58,
   "id": "3f5fecb1",
   "metadata": {},
   "outputs": [],
   "source": [
    "myRandomArray = np.random.randint(0,300,20)"
   ]
  },
  {
   "cell_type": "code",
   "execution_count": 59,
   "id": "e6bb21da",
   "metadata": {},
   "outputs": [
    {
     "data": {
      "text/plain": [
       "array([  7,  56,  54, 294, 157, 186, 182, 175, 273,  84, 290,  49, 182,\n",
       "       113, 151,  84,  28, 284, 249, 227])"
      ]
     },
     "execution_count": 59,
     "metadata": {},
     "output_type": "execute_result"
    }
   ],
   "source": [
    "myRandomArray"
   ]
  },
  {
   "cell_type": "markdown",
   "id": "3efc7e4b",
   "metadata": {},
   "source": [
    "## numpay array method"
   ]
  },
  {
   "cell_type": "code",
   "execution_count": 65,
   "id": "aef4c3a8",
   "metadata": {},
   "outputs": [
    {
     "data": {
      "text/plain": [
       "array([[ 0,  1,  2,  3,  4],\n",
       "       [ 5,  6,  7,  8,  9],\n",
       "       [10, 11, 12, 13, 14],\n",
       "       [15, 16, 17, 18, 19],\n",
       "       [20, 21, 22, 23, 24],\n",
       "       [25, 26, 27, 28, 29]])"
      ]
     },
     "execution_count": 65,
     "metadata": {},
     "output_type": "execute_result"
    }
   ],
   "source": [
    "myNumpyArray.reshape(6,5) # Eğer içindeki sayıyla boyut tutmazsa hata alırız."
   ]
  },
  {
   "cell_type": "code",
   "execution_count": 66,
   "id": "dfa8d5c3",
   "metadata": {},
   "outputs": [
    {
     "data": {
      "text/plain": [
       "29"
      ]
     },
     "execution_count": 66,
     "metadata": {},
     "output_type": "execute_result"
    }
   ],
   "source": [
    "myNumpyArray.max() # Array'deki max değeri bulur"
   ]
  },
  {
   "cell_type": "code",
   "execution_count": 67,
   "id": "e26002c7",
   "metadata": {},
   "outputs": [
    {
     "data": {
      "text/plain": [
       "294"
      ]
     },
     "execution_count": 67,
     "metadata": {},
     "output_type": "execute_result"
    }
   ],
   "source": [
    "myRandomArray.max()"
   ]
  },
  {
   "cell_type": "code",
   "execution_count": 69,
   "id": "e3ee5f7f",
   "metadata": {},
   "outputs": [
    {
     "data": {
      "text/plain": [
       "7"
      ]
     },
     "execution_count": 69,
     "metadata": {},
     "output_type": "execute_result"
    }
   ],
   "source": [
    "myRandomArray.min()# Array'deki min değeri bulur"
   ]
  },
  {
   "cell_type": "code",
   "execution_count": 70,
   "id": "0b87d3c6",
   "metadata": {},
   "outputs": [
    {
     "data": {
      "text/plain": [
       "3"
      ]
     },
     "execution_count": 70,
     "metadata": {},
     "output_type": "execute_result"
    }
   ],
   "source": [
    "myRandomArray.argmax() # Maximimum değerin indexi."
   ]
  },
  {
   "cell_type": "code",
   "execution_count": 71,
   "id": "af6c9940",
   "metadata": {},
   "outputs": [
    {
     "data": {
      "text/plain": [
       "0"
      ]
     },
     "execution_count": 71,
     "metadata": {},
     "output_type": "execute_result"
    }
   ],
   "source": [
    "myRandomArray.argmin() # Min değerin indexi."
   ]
  },
  {
   "cell_type": "code",
   "execution_count": 73,
   "id": "7cb00ff9",
   "metadata": {},
   "outputs": [],
   "source": [
    "reshapeArray = myNumpyArray.reshape(6,5) \n",
    "# Eğer bunu bir değişkene atamazsak sadece o satırlık değiştiriyor eski hali aynı kalıyor."
   ]
  },
  {
   "cell_type": "code",
   "execution_count": 74,
   "id": "a8252073",
   "metadata": {},
   "outputs": [
    {
     "data": {
      "text/plain": [
       "array([[ 0,  1,  2,  3,  4],\n",
       "       [ 5,  6,  7,  8,  9],\n",
       "       [10, 11, 12, 13, 14],\n",
       "       [15, 16, 17, 18, 19],\n",
       "       [20, 21, 22, 23, 24],\n",
       "       [25, 26, 27, 28, 29]])"
      ]
     },
     "execution_count": 74,
     "metadata": {},
     "output_type": "execute_result"
    }
   ],
   "source": [
    "reshapeArray"
   ]
  },
  {
   "cell_type": "code",
   "execution_count": 75,
   "id": "781a005d",
   "metadata": {},
   "outputs": [
    {
     "data": {
      "text/plain": [
       "(6, 5)"
      ]
     },
     "execution_count": 75,
     "metadata": {},
     "output_type": "execute_result"
    }
   ],
   "source": [
    "reshapeArray.shape # Boyutunu öğrenmek için kullanabiliriz. Fonksiyon değil bir attribute parantez kullanmıyoruz."
   ]
  }
 ],
 "metadata": {
  "kernelspec": {
   "display_name": "Python 3 (ipykernel)",
   "language": "python",
   "name": "python3"
  },
  "language_info": {
   "codemirror_mode": {
    "name": "ipython",
    "version": 3
   },
   "file_extension": ".py",
   "mimetype": "text/x-python",
   "name": "python",
   "nbconvert_exporter": "python",
   "pygments_lexer": "ipython3",
   "version": "3.11.3"
  }
 },
 "nbformat": 4,
 "nbformat_minor": 5
}
